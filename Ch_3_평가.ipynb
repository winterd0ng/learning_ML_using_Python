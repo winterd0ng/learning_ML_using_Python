{
  "nbformat": 4,
  "nbformat_minor": 0,
  "metadata": {
    "colab": {
      "name": "Ch_3_평가.ipynb",
      "provenance": [],
      "collapsed_sections": [],
      "authorship_tag": "ABX9TyMl0T2e9puLVg3tqJEj6YBR",
      "include_colab_link": true
    },
    "kernelspec": {
      "name": "python3",
      "display_name": "Python 3"
    },
    "language_info": {
      "name": "python"
    }
  },
  "cells": [
    {
      "cell_type": "markdown",
      "metadata": {
        "id": "view-in-github",
        "colab_type": "text"
      },
      "source": [
        "<a href=\"https://colab.research.google.com/github/winterd0ng/learning_ML_using_Python/blob/main/Ch_3_%ED%8F%89%EA%B0%80.ipynb\" target=\"_parent\"><img src=\"https://colab.research.google.com/assets/colab-badge.svg\" alt=\"Open In Colab\"/></a>"
      ]
    },
    {
      "cell_type": "markdown",
      "source": [
        "#정확도"
      ],
      "metadata": {
        "id": "5V9DSrBMAq8A"
      }
    },
    {
      "cell_type": "markdown",
      "source": [
        "평가를 간편하게 적용하기 위해서 confusion matrix, accuracy, precision, recall 등의 평가를 한꺼번에 호출하는 get_clf_eval() 함수를 만들자."
      ],
      "metadata": {
        "id": "hYQdqFpbDbDK"
      }
    },
    {
      "cell_type": "code",
      "source": [
        "from sklearn.metrics import accuracy_score, precision_score, recall_score, confusion_matrix\n",
        "\n",
        "def get_clf_eval(y_test, pred):\n",
        "  confusion = confusion_matrix(y_test, pred)\n",
        "  accuracy = accuracy_score(y_test, pred)\n",
        "  precision = precision_score(y_test, pred)\n",
        "  recall = recall_score(y_test, pred)\n",
        "  print('오차 행렬')\n",
        "  print(confusion)\n",
        "  print('정확도: {0:.4f}, 정밀도: {1:.4f}, 재현율 : {2:.4f}'.format(accuracy, precision, recall))"
      ],
      "metadata": {
        "id": "NslO7TVZHv-4"
      },
      "execution_count": null,
      "outputs": []
    },
    {
      "cell_type": "code",
      "source": [
        "#드라이브에 접근할 수 있도록 아래 코드 입력\n",
        "from google.colab import drive\n",
        "drive.mount('/content/drive')"
      ],
      "metadata": {
        "colab": {
          "base_uri": "https://localhost:8080/"
        },
        "id": "wNXSXJcBIrtg",
        "outputId": "7f573a4e-2d36-476d-add7-5754663bb497"
      },
      "execution_count": null,
      "outputs": [
        {
          "output_type": "stream",
          "name": "stdout",
          "text": [
            "Mounted at /content/drive\n"
          ]
        }
      ]
    },
    {
      "cell_type": "code",
      "source": [
        "#불러올 파일의 경로를 filename 변수에 저장\n",
        "filename = '/content/drive/MyDrive/Colab Notebooks/파이썬 머신러닝 완벽 가이드/titanic_train.csv'"
      ],
      "metadata": {
        "id": "14GQf2kLI9lA"
      },
      "execution_count": null,
      "outputs": []
    },
    {
      "cell_type": "code",
      "source": [
        "from sklearn.preprocessing import LabelEncoder\n",
        "\n",
        "# Null 처리 함수\n",
        "def fillna(df):\n",
        "  df['Age'].fillna(df['Age'].mean(), inplace=True)\n",
        "  df['Cabin'].fillna('N', inplace=True)\n",
        "  df['Embarked'].fillna('N', inplace=True)\n",
        "  df['Fare'].fillna(0, inplace=True)\n",
        "  return df\n",
        "\n",
        "# 머신러닝 알고리즘에 불필요한 속성 제거\n",
        "def drop_features(df):  \n",
        "  df.drop(['PassengerId', 'Name', 'Ticket'], axis=1, inplace=True)\n",
        "  return df\n",
        "\n",
        "# 레이블 인코딩 수행\n",
        "def format_features(df):\n",
        "  df['Cabin']= df['Cabin'].str[:1]\n",
        "  features = ['Cabin', 'Sex', 'Embarked']\n",
        "  for feature in features:\n",
        "    le = LabelEncoder()\n",
        "    le = le.fit(df[feature])\n",
        "    df[feature] = le.transform(df[feature])\n",
        "  return df\n",
        "\n",
        "# 앞에서 설정한 데이터 전처리 함수 호출\n",
        "def transform_features(df):\n",
        "  df = fillna(df)\n",
        "  df = drop_features(df)\n",
        "  df = format_features(df)\n",
        "  return df"
      ],
      "metadata": {
        "id": "oBQjBp9AKh5s"
      },
      "execution_count": null,
      "outputs": []
    },
    {
      "cell_type": "code",
      "source": [
        "import pandas as pd\n",
        "from sklearn.model_selection import train_test_split\n",
        "from sklearn.linear_model import LogisticRegression\n",
        "import numpy as np\n",
        "\n",
        "# 원본 데이터를 재로딩, 데이터 가공, 학습데이터/테스트 데이터 분할\n",
        "titanic_df = pd.read_csv(filename)\n",
        "y_titanic_df = titanic_df['Survived']\n",
        "X_titanic_df = titanic_df.drop('Survived', axis=1)\n",
        "X_titanic_df = transform_features(X_titanic_df)\n",
        "\n",
        "X_train, X_test, y_train, y_test = train_test_split(X_titanic_df, y_titanic_df, test_size=0.2, random_state=11)\n",
        "\n",
        "lr_clf = LogisticRegression()\n",
        "\n",
        "lr_clf.fit(X_train, y_train)\n",
        "pred = lr_clf.predict(X_test)\n",
        "get_clf_eval(y_test, pred)"
      ],
      "metadata": {
        "colab": {
          "base_uri": "https://localhost:8080/"
        },
        "id": "E2YFspJVJAzA",
        "outputId": "a7ee25e8-b015-47f3-be23-d0b316d46080"
      },
      "execution_count": null,
      "outputs": [
        {
          "output_type": "stream",
          "name": "stdout",
          "text": [
            "오차 행렬\n",
            "[[104  14]\n",
            " [ 13  48]]\n",
            "정확도: 0.8492, 정밀도: 0.7742, 재현율 : 0.7869\n"
          ]
        },
        {
          "output_type": "stream",
          "name": "stderr",
          "text": [
            "/usr/local/lib/python3.7/dist-packages/sklearn/linear_model/_logistic.py:818: ConvergenceWarning: lbfgs failed to converge (status=1):\n",
            "STOP: TOTAL NO. of ITERATIONS REACHED LIMIT.\n",
            "\n",
            "Increase the number of iterations (max_iter) or scale the data as shown in:\n",
            "    https://scikit-learn.org/stable/modules/preprocessing.html\n",
            "Please also refer to the documentation for alternative solver options:\n",
            "    https://scikit-learn.org/stable/modules/linear_model.html#logistic-regression\n",
            "  extra_warning_msg=_LOGISTIC_SOLVER_CONVERGENCE_MSG,\n"
          ]
        }
      ]
    },
    {
      "cell_type": "markdown",
      "source": [
        "predict_proba() : 개별 데이터별로 예측 확률을 반환"
      ],
      "metadata": {
        "id": "xpdl8FgqJ67Q"
      }
    },
    {
      "cell_type": "code",
      "source": [
        "pred_proba = lr_clf.predict_proba(X_test)\n",
        "pred = lr_clf.predict(X_test)\n",
        "print('pred_proba()결과 Shape : {0}'.format(pred_proba.shape))\n",
        "print('pred_proba array에서 앞 3개만 샘플로 추출 \\n:', pred_proba[:3])\n",
        "\n",
        "# 예측 확률 array와 예측 결과값 array를 병합(concatenate)해 예측 확률과 결과값을 한눈에 확인\n",
        "pred_proba_result = np.concatenate([pred_proba, pred.reshape(-1,1)], axis =1)\n",
        "print('두 개의 class 중에서 더 큰 확률을 클래스 값으로 예측 \\n', pred_proba_result[:3])"
      ],
      "metadata": {
        "id": "4cmAdAayLqpX"
      },
      "execution_count": null,
      "outputs": []
    },
    {
      "cell_type": "markdown",
      "source": [
        "이 로직을 직접 코드로 구현해서 사이킷런의 정밀도/재현율 트레이드오프 방식을 히해해보자"
      ],
      "metadata": {
        "id": "cOittW0vMaIv"
      }
    },
    {
      "cell_type": "markdown",
      "source": [
        "Binarizer 쓰는법"
      ],
      "metadata": {
        "id": "cUsGpkEsxUyC"
      }
    },
    {
      "cell_type": "code",
      "source": [
        "from sklearn.preprocessing import Binarizer\n",
        "\n",
        "X = [[1, -1, 2],[2,0,0],[0,1.1,1.2]]\n",
        "\n",
        "# X의 개별 원소들이 threshold값보다 같거나 작으면 0을, 크면 1을 반환\n",
        "binarizer = Binarizer(threshold=1.1)\n",
        "print(binarizer.fit_transform(X))"
      ],
      "metadata": {
        "id": "9Zjdst8HM95n",
        "colab": {
          "base_uri": "https://localhost:8080/"
        },
        "outputId": "15182179-d62c-44c6-9989-b2e81efbba07"
      },
      "execution_count": null,
      "outputs": [
        {
          "output_type": "stream",
          "name": "stdout",
          "text": [
            "[[0. 0. 1.]\n",
            " [1. 0. 0.]\n",
            " [0. 0. 1.]]\n"
          ]
        }
      ]
    },
    {
      "cell_type": "markdown",
      "source": [
        "Binarizer을 이용해 사이킷런 predict()의 의사(pseudo)코드를 만들어보자.\n",
        "\n",
        "앞 예제의 LogisticRegression 객체의 predict_proba() 메서드로 구한 각 클래스별 예측 확률값인 pred_proba 객체 변수에 분류 결정 임곗값(threshold)을 0.5로 지정한 Binarizer 클래스를 적용해 최종 예측값을 구하는 방식"
      ],
      "metadata": {
        "id": "-hSziMXexPe_"
      }
    },
    {
      "cell_type": "code",
      "source": [
        "from sklearn.preprocessing import Binarizer\n",
        "\n",
        "# Binarizer의 threshold 설정값. 분류 결정 임곗값임\n",
        "custom_threshold = 0.5\n",
        "\n",
        "# predict_proba() 반환값의 두 번째 컬럼, 즉 Positive 클래스 칼럼 하나만 추출해 Binarizer를 적용\n",
        "pred_proba_1 = pred_proba[:, 1].reshape(-1, 1)\n",
        "\n",
        "binarizer = Binarizer(threshold=custom_threshold).fit(pred_proba_1)\n",
        "custom_predict = binarizer.transform(pred_proba_1)\n",
        "\n",
        "get_clf_eval(y_test, custom_predict)"
      ],
      "metadata": {
        "colab": {
          "base_uri": "https://localhost:8080/"
        },
        "id": "zEIEEQq0xYcZ",
        "outputId": "f8c74cdf-7844-4fe7-edae-c5b2e18a969f"
      },
      "execution_count": null,
      "outputs": [
        {
          "output_type": "stream",
          "name": "stdout",
          "text": [
            "오차 행렬\n",
            "[[104  14]\n",
            " [ 13  48]]\n",
            "정확도: 0.8492, 정밀도: 0.7742, 재현율 : 0.7869\n"
          ]
        }
      ]
    },
    {
      "cell_type": "markdown",
      "source": [
        "만약 분류 결정 임곗값을 0.4로 낮추면?"
      ],
      "metadata": {
        "id": "JCK8vQdl0gVe"
      }
    },
    {
      "cell_type": "code",
      "source": [
        "# Binarizer의 threshold 설정값을 0.4로 설정. 즉 분류 결정 임곗값을 0.5에서 0.4로 낮춤\n",
        "custom_threshold = 0.4\n",
        "pred_proba_1 = pred_proba[:,1].reshape(-1,1)\n",
        "binarizer = Binarizer(threshold=custom_threshold).fit(pred_proba_1)\n",
        "custom_predict = binarizer.transform(pred_proba_1)\n",
        "\n",
        "get_clf_eval(y_test, custom_predict)"
      ],
      "metadata": {
        "colab": {
          "base_uri": "https://localhost:8080/"
        },
        "id": "S3b1WJbC0n0l",
        "outputId": "416dc4ef-d2ba-451c-d4c7-86d05927a500"
      },
      "execution_count": null,
      "outputs": [
        {
          "output_type": "stream",
          "name": "stdout",
          "text": [
            "오차 행렬\n",
            "[[98 20]\n",
            " [10 51]]\n",
            "정확도: 0.8324, 정밀도: 0.7183, 재현율 : 0.8361\n"
          ]
        }
      ]
    },
    {
      "cell_type": "markdown",
      "source": [
        "이번에는 for문을 돌려서 임곗값을 0.4부터 0.6까지 0.05씩 증가시키면서 구해보다"
      ],
      "metadata": {
        "id": "nVbowngt1KEv"
      }
    },
    {
      "cell_type": "code",
      "source": [
        "# 테스트를 수행할 모든 임곗값을 리스트 객체로 저장\n",
        "thresholds = [0.4, 0.45, 0.5, 0.55, 0.6]\n",
        "\n",
        "def get_eval_by_threshold(y_test, pred_proba_c1, thresholds):\n",
        "  # thresholds list 객체 내의 값을 차례로 iteration하면서 Evaluation 수행.\n",
        "  for custom_threshold in thresholds:\n",
        "    binarizer = Binarizer(threshold=custom_threshold).fit(pred_proba_c1)\n",
        "    custom_predict = binarizer.transform(pred_proba_c1)\n",
        "    print('임곗값:', custom_threshold)\n",
        "    get_clf_eval(y_test, custom_predict)\n",
        "\n",
        "get_eval_by_threshold(y_test, pred_proba[:,1].reshape(-1,1), thresholds)"
      ],
      "metadata": {
        "colab": {
          "base_uri": "https://localhost:8080/",
          "height": 339
        },
        "id": "eQyfbweA33a9",
        "outputId": "fb139d83-08d9-4a27-9d28-f900e862738e"
      },
      "execution_count": null,
      "outputs": [
        {
          "output_type": "error",
          "ename": "NameError",
          "evalue": "ignored",
          "traceback": [
            "\u001b[0;31m---------------------------------------------------------------------------\u001b[0m",
            "\u001b[0;31mNameError\u001b[0m                                 Traceback (most recent call last)",
            "\u001b[0;32m<ipython-input-29-5d00a6bb11c4>\u001b[0m in \u001b[0;36m<module>\u001b[0;34m()\u001b[0m\n\u001b[1;32m     10\u001b[0m     \u001b[0mget_clf_eval\u001b[0m\u001b[0;34m(\u001b[0m\u001b[0my_test\u001b[0m\u001b[0;34m,\u001b[0m \u001b[0mcustom_predict\u001b[0m\u001b[0;34m)\u001b[0m\u001b[0;34m\u001b[0m\u001b[0;34m\u001b[0m\u001b[0m\n\u001b[1;32m     11\u001b[0m \u001b[0;34m\u001b[0m\u001b[0m\n\u001b[0;32m---> 12\u001b[0;31m \u001b[0mget_eval_by_threshold\u001b[0m\u001b[0;34m(\u001b[0m\u001b[0my_test\u001b[0m\u001b[0;34m,\u001b[0m \u001b[0mpred_proba\u001b[0m\u001b[0;34m[\u001b[0m\u001b[0;34m:\u001b[0m\u001b[0;34m,\u001b[0m\u001b[0;36m1\u001b[0m\u001b[0;34m]\u001b[0m\u001b[0;34m.\u001b[0m\u001b[0mreshape\u001b[0m\u001b[0;34m(\u001b[0m\u001b[0;34m-\u001b[0m\u001b[0;36m1\u001b[0m\u001b[0;34m,\u001b[0m\u001b[0;36m1\u001b[0m\u001b[0;34m)\u001b[0m\u001b[0;34m,\u001b[0m \u001b[0mthresholds\u001b[0m\u001b[0;34m)\u001b[0m\u001b[0;34m\u001b[0m\u001b[0;34m\u001b[0m\u001b[0m\n\u001b[0m",
            "\u001b[0;32m<ipython-input-29-5d00a6bb11c4>\u001b[0m in \u001b[0;36mget_eval_by_threshold\u001b[0;34m(y_test, pred_proba_c1, thresholds)\u001b[0m\n\u001b[1;32m      5\u001b[0m   \u001b[0;31m# thresholds list 객체 내의 값을 차례로 iteration하면서 Evaluation 수행.\u001b[0m\u001b[0;34m\u001b[0m\u001b[0;34m\u001b[0m\u001b[0;34m\u001b[0m\u001b[0m\n\u001b[1;32m      6\u001b[0m   \u001b[0;32mfor\u001b[0m \u001b[0mcustom_threshold\u001b[0m \u001b[0;32min\u001b[0m \u001b[0mthresholds\u001b[0m\u001b[0;34m:\u001b[0m\u001b[0;34m\u001b[0m\u001b[0;34m\u001b[0m\u001b[0m\n\u001b[0;32m----> 7\u001b[0;31m     \u001b[0mbinarizer\u001b[0m \u001b[0;34m=\u001b[0m \u001b[0mBinarizer\u001b[0m\u001b[0;34m(\u001b[0m\u001b[0mthreshold\u001b[0m\u001b[0;34m=\u001b[0m\u001b[0mcustom_threshold\u001b[0m\u001b[0;34m)\u001b[0m\u001b[0;34m.\u001b[0m\u001b[0mfit\u001b[0m\u001b[0;34m(\u001b[0m\u001b[0mpred_proba_c1\u001b[0m\u001b[0;34m)\u001b[0m\u001b[0;34m\u001b[0m\u001b[0;34m\u001b[0m\u001b[0m\n\u001b[0m\u001b[1;32m      8\u001b[0m     \u001b[0mcustom_predict\u001b[0m \u001b[0;34m=\u001b[0m \u001b[0mbinarizer\u001b[0m\u001b[0;34m.\u001b[0m\u001b[0mtransform\u001b[0m\u001b[0;34m(\u001b[0m\u001b[0mpred_proba_c1\u001b[0m\u001b[0;34m)\u001b[0m\u001b[0;34m\u001b[0m\u001b[0;34m\u001b[0m\u001b[0m\n\u001b[1;32m      9\u001b[0m     \u001b[0mprint\u001b[0m\u001b[0;34m(\u001b[0m\u001b[0;34m'임곗값:'\u001b[0m\u001b[0;34m,\u001b[0m \u001b[0mcustom_threshold\u001b[0m\u001b[0;34m)\u001b[0m\u001b[0;34m\u001b[0m\u001b[0;34m\u001b[0m\u001b[0m\n",
            "\u001b[0;31mNameError\u001b[0m: name 'Binarizer' is not defined"
          ]
        }
      ]
    },
    {
      "cell_type": "markdown",
      "source": [
        "##F1 스코어\n",
        "F1 스코어는 정밀도와 재현율을 결합한 지표이다.\n",
        "F1 스코어는 정밀도와 재현율이 어느 한쪽으로 치우치지 않는 수치를 나타낼 때 상대적으로 높은 값을 가진다.\n",
        "공식은 다음과 같다.\n",
        "\n",
        "![1_F03tCBoR7kc07jn5AzZfQQ.png](data:image/png;base64,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)"
      ],
      "metadata": {
        "id": "YYZyjkiH4u4t"
      }
    },
    {
      "cell_type": "markdown",
      "source": [
        "사이킷런은 F1 스코어를 구하기 위해 f1_score()라는 API를 제공한다."
      ],
      "metadata": {
        "id": "rEfVDTPQ6zvj"
      }
    },
    {
      "cell_type": "code",
      "source": [
        "from sklearn.metrics import f1_score\n",
        "f1 = f1_score(y_test, pred) #앞 예제에서 로지스틱 회귀에서의 모델 테스트\n",
        "print('F1 스코어: {0: .4f}'.format(f1))"
      ],
      "metadata": {
        "colab": {
          "base_uri": "https://localhost:8080/"
        },
        "id": "xKtxmFoy80XL",
        "outputId": "68d98416-bb94-4423-dab2-2feefe8db116"
      },
      "execution_count": null,
      "outputs": [
        {
          "output_type": "stream",
          "name": "stdout",
          "text": [
            "F1 스코어:  0.7805\n"
          ]
        }
      ]
    },
    {
      "cell_type": "markdown",
      "source": [
        "타이타닉 생존자 예측에서 임곗값을 변화시키면서 F1 스코어를 포함한 평가 지표를 구해보자."
      ],
      "metadata": {
        "id": "d39kZmcn9FD9"
      }
    },
    {
      "cell_type": "code",
      "source": [
        "# 앞에서 작성한 함수에 f1 score 추가\n",
        "def get_clf_eval(y_test, pred):\n",
        "  confusion = confusion_matrix(y_test, pred)\n",
        "  accuracy = accuracy_score(y_test, pred)\n",
        "  precision = precision_score(y_test, pred)\n",
        "  recall = recall_score(y_test, pred)\n",
        "  # F1 스코어 추가\n",
        "  f1 = f1_score(y_test, pred)\n",
        "  print('오차 행렬')\n",
        "  print(confusion)\n",
        "  # f1 score print 추가\n",
        "  print('정확도: {0:.4f}, 정밀도: {1:.4f}, 재현율: {2:.4f}, F1: {3:.4f}'.format(accuracy, precision, recall, f1))\n",
        "\n",
        "thresholds = [0.4, 0.45, 0.5, 0.55, 0.6]\n",
        "pred_proba = lr_clf.predict_proba(X_test)\n",
        "get_eval_by_threshold(y_test, pred_proba[:,1].reshape(-1,1), thresholds)"
      ],
      "metadata": {
        "colab": {
          "base_uri": "https://localhost:8080/"
        },
        "id": "z7-srAZJ9he6",
        "outputId": "98774d99-4fac-48a4-bb14-ff9c50ce8cbd"
      },
      "execution_count": null,
      "outputs": [
        {
          "output_type": "stream",
          "name": "stdout",
          "text": [
            "임곗값: 0.4\n",
            "오차 행렬\n",
            "[[98 20]\n",
            " [10 51]]\n",
            "정확도: 0.8324, 정밀도: 0.7183, 재현율: 0.8361, F1: 0.7727\n",
            "임곗값: 0.45\n",
            "오차 행렬\n",
            "[[103  15]\n",
            " [ 12  49]]\n",
            "정확도: 0.8492, 정밀도: 0.7656, 재현율: 0.8033, F1: 0.7840\n",
            "임곗값: 0.5\n",
            "오차 행렬\n",
            "[[104  14]\n",
            " [ 13  48]]\n",
            "정확도: 0.8492, 정밀도: 0.7742, 재현율: 0.7869, F1: 0.7805\n",
            "임곗값: 0.55\n",
            "오차 행렬\n",
            "[[109   9]\n",
            " [ 15  46]]\n",
            "정확도: 0.8659, 정밀도: 0.8364, 재현율: 0.7541, F1: 0.7931\n",
            "임곗값: 0.6\n",
            "오차 행렬\n",
            "[[112   6]\n",
            " [ 16  45]]\n",
            "정확도: 0.8771, 정밀도: 0.8824, 재현율: 0.7377, F1: 0.8036\n"
          ]
        }
      ]
    },
    {
      "cell_type": "markdown",
      "source": [
        "##ROC 곡선과 AUC\n",
        "\n",
        "ROC 곡선과 이에 기반한 AUC 스코어는 이진 분류의 예측 성능 측정에서 중요하게 사용되는 지표이다.\n",
        "\n",
        "![Resampling_발표자료_SW_MK_Final_Final-40.png](data:image/png;base64,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)\n",
        "\n",
        "\n",
        "![Resampling_발표자료_SW_MK_Final_Final-41.png](data:image/png;base64,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)\n"
      ],
      "metadata": {
        "id": "30Slidcr-Rbc"
      }
    },
    {
      "cell_type": "markdown",
      "source": [
        "사이킷런에서 ROC 곡선을 구하기위해 roc_curve() API를 이용할 수 있다. 사용법은 precision_recall_curve()와 비슷하다.\n",
        "\n",
        "타이타닉 생존자 예측 모델의 FPR, TPR, 임곗값을 구해보자"
      ],
      "metadata": {
        "id": "VmbL48SYEeJi"
      }
    },
    {
      "cell_type": "code",
      "source": [
        "from sklearn.metrics import roc_curve\n",
        "\n",
        "# 레이블 값이 1일때의 예측 확률을 추출\n",
        "pred_proba_class1 = lr_clf.predict_proba(X_test)[:,1]\n",
        "\n",
        "fprs, tprs, thresholds = roc_curve(y_test, pred_proba_class1)\n",
        "# 반환된 임곗값 배열에서 샘플로 데이터를 추출하되, 임곗값을 5 step으로 추출\n",
        "# thresholds[0]은 max(예측확률)+1로 임의 설정됨. 이를 제외하기 위해 np.arange는 1부터 시작\n",
        "thr_index = np.arange(1, thresholds.shape[0],5)\n",
        "print('샘플 추출을 위한 임곗값 배열의 index:', thr_index)\n",
        "print('샘플 index로 추출한 임곗값: ', np.round(thresholds[thr_index], 2)) #반올림 소수점 2자리\n",
        "\n",
        "# 5 step 단위로 추출된 임계값에 따른 FPR, TPR 값\n",
        "print('샘플 임곗값별 FPR: ', np.round(fprs[thr_index], 3))\n",
        "print('샘플 임곗값별 TPR: ', np.round(tprs[thr_index], 3))"
      ],
      "metadata": {
        "colab": {
          "base_uri": "https://localhost:8080/"
        },
        "id": "Ww5Dth1fEqVJ",
        "outputId": "7e741577-0e55-49bc-a0ca-0064b60e8e73"
      },
      "execution_count": null,
      "outputs": [
        {
          "output_type": "stream",
          "name": "stdout",
          "text": [
            "샘플 추출을 위한 임곗값 배열의 index: [ 1  6 11 16 21 26 31 36 41 46 51]\n",
            "샘플 index로 추출한 임곗값:  [0.97 0.65 0.63 0.56 0.45 0.4  0.35 0.15 0.13 0.11 0.11]\n",
            "샘플 임곗값별 FPR:  [0.    0.017 0.034 0.076 0.127 0.169 0.203 0.466 0.585 0.686 0.797]\n",
            "샘플 임곗값별 TPR:  [0.033 0.639 0.721 0.754 0.803 0.836 0.885 0.902 0.934 0.967 0.984]\n"
          ]
        }
      ]
    },
    {
      "cell_type": "markdown",
      "source": [
        "시각화 해봅시다."
      ],
      "metadata": {
        "id": "5Zmkl0IBHXxG"
      }
    },
    {
      "cell_type": "code",
      "source": [
        "import matplotlib.pyplot as plt\n",
        "\n",
        "def roc_curve_plot(y_test, pred_proba_c1):\n",
        "  # 임곗값에 따른 FPR, TPR 값을 반환받음.\n",
        "  fprs, tprs, thresholds = roc_curve(y_test, pred_proba_c1)\n",
        "  # ROC 곡선을 그래프 곡선으로 그림\n",
        "  plt.plot(fprs, tprs, label='ROC')\n",
        "  # 가운데 대각선 직선을 그림\n",
        "  plt.plot([0,1],[0,1], 'k--', label='Random')\n",
        "\n",
        "  # FPR X 축의 Scale을 0.1 단위로 변경, X, Y축 명 설정 등\n",
        "  start, end = plt.xlim()\n",
        "  plt.xticks(np.round(np.arange(start, end, 0.1),2))\n",
        "  plt.xlim(0,1); plt.ylim(0,1)\n",
        "  plt.xlabel('FPR( 1 - Sensitivity)'); plt.ylabel('TPR(Recall)')\n",
        "  plt.legend()\n",
        "\n",
        "roc_curve_plot(y_test, pred_proba[:,1])"
      ],
      "metadata": {
        "colab": {
          "base_uri": "https://localhost:8080/",
          "height": 283
        },
        "id": "-adWSMvjGE8w",
        "outputId": "0276464a-aa9c-4420-d524-c7e42404262d"
      },
      "execution_count": null,
      "outputs": [
        {
          "output_type": "display_data",
          "data": {
            "image/png": "[encoded data removed]",
            "text/plain": [
              "<Figure size 432x288 with 1 Axes>"
            ]
          },
          "metadata": {
            "needs_background": "light"
          }
        }
      ]
    },
    {
      "cell_type": "markdown",
      "source": [
        "일반적으로 ROC 곡선 자체는 FPR과 TPR의 변화 값을 보는데 이용하며 분류의 성능 지표로 사용되는 것은 ROC 곡선 면적에 기반한 AUC 값으로 결정.\n",
        "\n",
        "AUC(Area Under Curve)값은 ROC 곡선 밑의 며넉을 구한 것으로 일반적으로 1에 가까울수록 좋다."
      ],
      "metadata": {
        "id": "QaGAx4QHHjkO"
      }
    },
    {
      "cell_type": "code",
      "source": [
        "from sklearn.metrics import roc_auc_score\n",
        "\n",
        "pred_proba = lr_clf.predict_proba(X_test)[:,1]\n",
        "roc_score = roc_auc_score(y_test, pred_proba)\n",
        "print('ROC AUC 값: {0:.4f}'.format(roc_score))"
      ],
      "metadata": {
        "colab": {
          "base_uri": "https://localhost:8080/"
        },
        "id": "utNeaHo4IjqR",
        "outputId": "e98dc72c-7646-47c3-fd18-0bfd97d81b96"
      },
      "execution_count": null,
      "outputs": [
        {
          "output_type": "stream",
          "name": "stdout",
          "text": [
            "ROC AUC 값: 0.9024\n"
          ]
        }
      ]
    },
    {
      "cell_type": "markdown",
      "source": [
        "get_clf_eval() 함수에 roc_auc_socre()까지 추가해보자"
      ],
      "metadata": {
        "id": "FDg2x3YCIyVQ"
      }
    },
    {
      "cell_type": "code",
      "source": [
        "def get_clf_eval(y_test, pred=None, pred_proba=None):\n",
        "  confusion = confusion_matrix(y_test, pred)\n",
        "  accuracy = accuracy_score(y_test, pred)\n",
        "  precision = precision_score(y_test ,pred)\n",
        "  recall = recall_score(y_test, pred)\n",
        "  f1 = f1_score(y_test, pred)\n",
        "  # ROC_AUC 추가\n",
        "  roc_auc = roc_auc_score(y_test, pred_proba)\n",
        "  print('오차행렬')\n",
        "  print(confusion)\n",
        "  # ROC_AUC print 추가\n",
        "  print('정확도: {0:.4f}, 정밀도: {1:.4f}, 재현율: {2:.4f}, F1: {3:.4f}, AUC: {4:.4f}'.format(accuracy, precision, recall, f1, roc_auc))"
      ],
      "metadata": {
        "id": "hzLyXUF3JGlV"
      },
      "execution_count": null,
      "outputs": []
    },
    {
      "cell_type": "markdown",
      "source": [
        "##파마 인디언 당뇨병 예측\n"
      ],
      "metadata": {
        "id": "hDEbyeEyJ47I"
      }
    },
    {
      "cell_type": "code",
      "source": [
        "import numpy as np\n",
        "import pandas as pd\n",
        "import matplotlib.pyplot as plt\n",
        "%matplotlib inline\n",
        "\n",
        "from sklearn.model_selection import train_test_split\n",
        "from sklearn.metrics import accuracy_score, precision_score, recall_score, roc_auc_score\n",
        "from sklearn.metrics import f1_score, confusion_matrix, precision_recall_curve, roc_curve\n",
        "from sklearn.preprocessing import StandardScaler\n",
        "from sklearn.linear_model import LogisticRegression"
      ],
      "metadata": {
        "id": "Hs69uj9gMgM6"
      },
      "execution_count": null,
      "outputs": []
    },
    {
      "cell_type": "code",
      "source": [
        "#드라이브에 접근할 수 있도록 아래 코드 입력\n",
        "from google.colab import drive\n",
        "drive.mount('/content/drive')"
      ],
      "metadata": {
        "colab": {
          "base_uri": "https://localhost:8080/"
        },
        "outputId": "1d2d4d11-504b-4ff9-93e8-549f988661b8",
        "id": "LVPHU4PxNWPt"
      },
      "execution_count": null,
      "outputs": [
        {
          "output_type": "stream",
          "name": "stdout",
          "text": [
            "Mounted at /content/drive\n"
          ]
        }
      ]
    },
    {
      "cell_type": "code",
      "source": [
        "#불러올 파일의 경로를 filename 변수에 저장\n",
        "filename = '/content/drive/MyDrive/Colab Notebooks/파이썬 머신러닝 완벽 가이드/diabetes.csv'"
      ],
      "metadata": {
        "id": "ergIqvlTNWPt"
      },
      "execution_count": null,
      "outputs": []
    },
    {
      "cell_type": "code",
      "source": [
        "diabetes_data = pd.read_csv(filename)\n",
        "print(diabetes_data['Outcome'].value_counts())\n",
        "diabetes_data.head(3)"
      ],
      "metadata": {
        "colab": {
          "base_uri": "https://localhost:8080/",
          "height": 199
        },
        "id": "lGLJvu_SNZ4_",
        "outputId": "74fbacc6-c2fa-4155-c0c6-3349eeb0c4f4"
      },
      "execution_count": null,
      "outputs": [
        {
          "output_type": "stream",
          "name": "stdout",
          "text": [
            "0    500\n",
            "1    268\n",
            "Name: Outcome, dtype: int64\n"
          ]
        },
        {
          "output_type": "execute_result",
          "data": {
            "text/html": [
              "\n",
              "  <div id=\"df-3fb03564-c096-4b14-a597-f35cce747d0e\">\n",
              "    <div class=\"colab-df-container\">\n",
              "      <div>\n",
              "<style scoped>\n",
              "    .dataframe tbody tr th:only-of-type {\n",
              "        vertical-align: middle;\n",
              "    }\n",
              "\n",
              "    .dataframe tbody tr th {\n",
              "        vertical-align: top;\n",
              "    }\n",
              "\n",
              "    .dataframe thead th {\n",
              "        text-align: right;\n",
              "    }\n",
              "</style>\n",
              "<table border=\"1\" class=\"dataframe\">\n",
              "  <thead>\n",
              "    <tr style=\"text-align: right;\">\n",
              "      <th></th>\n",
              "      <th>Pregnancies</th>\n",
              "      <th>Glucose</th>\n",
              "      <th>BloodPressure</th>\n",
              "      <th>SkinThickness</th>\n",
              "      <th>Insulin</th>\n",
              "      <th>BMI</th>\n",
              "      <th>DiabetesPedigreeFunction</th>\n",
              "      <th>Age</th>\n",
              "      <th>Outcome</th>\n",
              "    </tr>\n",
              "  </thead>\n",
              "  <tbody>\n",
              "    <tr>\n",
              "      <th>0</th>\n",
              "      <td>6</td>\n",
              "      <td>148</td>\n",
              "      <td>72</td>\n",
              "      <td>35</td>\n",
              "      <td>0</td>\n",
              "      <td>33.6</td>\n",
              "      <td>0.627</td>\n",
              "      <td>50</td>\n",
              "      <td>1</td>\n",
              "    </tr>\n",
              "    <tr>\n",
              "      <th>1</th>\n",
              "      <td>1</td>\n",
              "      <td>85</td>\n",
              "      <td>66</td>\n",
              "      <td>29</td>\n",
              "      <td>0</td>\n",
              "      <td>26.6</td>\n",
              "      <td>0.351</td>\n",
              "      <td>31</td>\n",
              "      <td>0</td>\n",
              "    </tr>\n",
              "    <tr>\n",
              "      <th>2</th>\n",
              "      <td>8</td>\n",
              "      <td>183</td>\n",
              "      <td>64</td>\n",
              "      <td>0</td>\n",
              "      <td>0</td>\n",
              "      <td>23.3</td>\n",
              "      <td>0.672</td>\n",
              "      <td>32</td>\n",
              "      <td>1</td>\n",
              "    </tr>\n",
              "  </tbody>\n",
              "</table>\n",
              "</div>\n",
              "      <button class=\"colab-df-convert\" onclick=\"convertToInteractive('df-3fb03564-c096-4b14-a597-f35cce747d0e')\"\n",
              "              title=\"Convert this dataframe to an interactive table.\"\n",
              "              style=\"display:none;\">\n",
              "        \n",
              "  <svg xmlns=\"http://www.w3.org/2000/svg\" height=\"24px\"viewBox=\"0 0 24 24\"\n",
              "       width=\"24px\">\n",
              "    <path d=\"M0 0h24v24H0V0z\" fill=\"none\"/>\n",
              "    <path d=\"M18.56 5.44l.94 2.06.94-2.06 2.06-.94-2.06-.94-.94-2.06-.94 2.06-2.06.94zm-11 1L8.5 8.5l.94-2.06 2.06-.94-2.06-.94L8.5 2.5l-.94 2.06-2.06.94zm10 10l.94 2.06.94-2.06 2.06-.94-2.06-.94-.94-2.06-.94 2.06-2.06.94z\"/><path d=\"M17.41 7.96l-1.37-1.37c-.4-.4-.92-.59-1.43-.59-.52 0-1.04.2-1.43.59L10.3 9.45l-7.72 7.72c-.78.78-.78 2.05 0 2.83L4 21.41c.39.39.9.59 1.41.59.51 0 1.02-.2 1.41-.59l7.78-7.78 2.81-2.81c.8-.78.8-2.07 0-2.86zM5.41 20L4 18.59l7.72-7.72 1.47 1.35L5.41 20z\"/>\n",
              "  </svg>\n",
              "      </button>\n",
              "      \n",
              "  <style>\n",
              "    .colab-df-container {\n",
              "      display:flex;\n",
              "      flex-wrap:wrap;\n",
              "      gap: 12px;\n",
              "    }\n",
              "\n",
              "    .colab-df-convert {\n",
              "      background-color: #E8F0FE;\n",
              "      border: none;\n",
              "      border-radius: 50%;\n",
              "      cursor: pointer;\n",
              "      display: none;\n",
              "      fill: #1967D2;\n",
              "      height: 32px;\n",
              "      padding: 0 0 0 0;\n",
              "      width: 32px;\n",
              "    }\n",
              "\n",
              "    .colab-df-convert:hover {\n",
              "      background-color: #E2EBFA;\n",
              "      box-shadow: 0px 1px 2px rgba(60, 64, 67, 0.3), 0px 1px 3px 1px rgba(60, 64, 67, 0.15);\n",
              "      fill: #174EA6;\n",
              "    }\n",
              "\n",
              "    [theme=dark] .colab-df-convert {\n",
              "      background-color: #3B4455;\n",
              "      fill: #D2E3FC;\n",
              "    }\n",
              "\n",
              "    [theme=dark] .colab-df-convert:hover {\n",
              "      background-color: #434B5C;\n",
              "      box-shadow: 0px 1px 3px 1px rgba(0, 0, 0, 0.15);\n",
              "      filter: drop-shadow(0px 1px 2px rgba(0, 0, 0, 0.3));\n",
              "      fill: #FFFFFF;\n",
              "    }\n",
              "  </style>\n",
              "\n",
              "      <script>\n",
              "        const buttonEl =\n",
              "          document.querySelector('#df-3fb03564-c096-4b14-a597-f35cce747d0e button.colab-df-convert');\n",
              "        buttonEl.style.display =\n",
              "          google.colab.kernel.accessAllowed ? 'block' : 'none';\n",
              "\n",
              "        async function convertToInteractive(key) {\n",
              "          const element = document.querySelector('#df-3fb03564-c096-4b14-a597-f35cce747d0e');\n",
              "          const dataTable =\n",
              "            await google.colab.kernel.invokeFunction('convertToInteractive',\n",
              "                                                     [key], {});\n",
              "          if (!dataTable) return;\n",
              "\n",
              "          const docLinkHtml = 'Like what you see? Visit the ' +\n",
              "            '<a target=\"_blank\" href=https://colab.research.google.com/notebooks/data_table.ipynb>data table notebook</a>'\n",
              "            + ' to learn more about interactive tables.';\n",
              "          element.innerHTML = '';\n",
              "          dataTable['output_type'] = 'display_data';\n",
              "          await google.colab.output.renderOutput(dataTable, element);\n",
              "          const docLink = document.createElement('div');\n",
              "          docLink.innerHTML = docLinkHtml;\n",
              "          element.appendChild(docLink);\n",
              "        }\n",
              "      </script>\n",
              "    </div>\n",
              "  </div>\n",
              "  "
            ],
            "text/plain": [
              "   Pregnancies  Glucose  BloodPressure  ...  DiabetesPedigreeFunction  Age  Outcome\n",
              "0            6      148             72  ...                     0.627   50        1\n",
              "1            1       85             66  ...                     0.351   31        0\n",
              "2            8      183             64  ...                     0.672   32        1\n",
              "\n",
              "[3 rows x 9 columns]"
            ]
          },
          "metadata": {},
          "execution_count": 5
        }
      ]
    },
    {
      "cell_type": "markdown",
      "source": [
        "전체 768개 중 Negative값 0이 500, Positive 값 1이 268개"
      ],
      "metadata": {
        "id": "vp0yFkkeNl-y"
      }
    },
    {
      "cell_type": "code",
      "source": [
        "diabetes_data.info()"
      ],
      "metadata": {
        "colab": {
          "base_uri": "https://localhost:8080/"
        },
        "id": "KY8Y9g6SOz7s",
        "outputId": "0223ebf0-447e-4b0d-d5be-fc5c0ad9d33d"
      },
      "execution_count": null,
      "outputs": [
        {
          "output_type": "stream",
          "name": "stdout",
          "text": [
            "<class 'pandas.core.frame.DataFrame'>\n",
            "RangeIndex: 768 entries, 0 to 767\n",
            "Data columns (total 9 columns):\n",
            " #   Column                    Non-Null Count  Dtype  \n",
            "---  ------                    --------------  -----  \n",
            " 0   Pregnancies               768 non-null    int64  \n",
            " 1   Glucose                   768 non-null    int64  \n",
            " 2   BloodPressure             768 non-null    int64  \n",
            " 3   SkinThickness             768 non-null    int64  \n",
            " 4   Insulin                   768 non-null    int64  \n",
            " 5   BMI                       768 non-null    float64\n",
            " 6   DiabetesPedigreeFunction  768 non-null    float64\n",
            " 7   Age                       768 non-null    int64  \n",
            " 8   Outcome                   768 non-null    int64  \n",
            "dtypes: float64(2), int64(7)\n",
            "memory usage: 54.1 KB\n"
          ]
        }
      ]
    },
    {
      "cell_type": "markdown",
      "source": [
        "Null값은 없고 피처 타입은 모두 숫자형\n",
        "\n",
        "따로 피처인코딩은 필요하지 않아보임\n",
        "\n",
        "로지스틱 회귀를 이용해 예측 모델을 생성해보자"
      ],
      "metadata": {
        "id": "o84ZFZqLO1i_"
      }
    },
    {
      "cell_type": "code",
      "source": [
        "# 피처 데이트 세트, X, 레이블 데이터 세트 y를 추출\n",
        "# 맨 끝이 Outcome 칼럼으로 레이블 값임. 칼럼 위치 -1을 이용해 추출\n",
        "X = diabetes_data.iloc[:, :-1] # 맨 뒤 column 앞까지\n",
        "y = diabetes_data.iloc[:, -1] # 맨 뒤 column만 (label값)\n",
        "\n",
        "X_train, X_test, y_train, y_test = train_test_split(X, y, test_size = 0.2, random_state = 156, stratify=y)\n",
        "\n",
        "# 로지스틱 회귀로 학습, 예측 및 평가 수행\n",
        "lr_clf = LogisticRegression()\n",
        "lr_clf.fit(X_train, y_train)\n",
        "pred = lr_clf.predict(X_test)\n",
        "pred_proba = lr_clf.predict_proba(X_test)[:,1]\n",
        "\n",
        "get_clf_eval(y_test, pred, pred_proba)"
      ],
      "metadata": {
        "id": "_Jb6mnbuO-A_",
        "colab": {
          "base_uri": "https://localhost:8080/"
        },
        "outputId": "8c37ff8c-fa07-42dc-dddf-a4aae5f984e9"
      },
      "execution_count": null,
      "outputs": [
        {
          "output_type": "stream",
          "name": "stdout",
          "text": [
            "오차행렬\n",
            "[[88 12]\n",
            " [23 31]]\n",
            "정확도: 0.7727, 정밀도: 0.7209, 재현율: 0.5741, F1: 0.6392, AUC: 0.7919\n"
          ]
        },
        {
          "output_type": "stream",
          "name": "stderr",
          "text": [
            "/usr/local/lib/python3.7/dist-packages/sklearn/linear_model/_logistic.py:818: ConvergenceWarning: lbfgs failed to converge (status=1):\n",
            "STOP: TOTAL NO. of ITERATIONS REACHED LIMIT.\n",
            "\n",
            "Increase the number of iterations (max_iter) or scale the data as shown in:\n",
            "    https://scikit-learn.org/stable/modules/preprocessing.html\n",
            "Please also refer to the documentation for alternative solver options:\n",
            "    https://scikit-learn.org/stable/modules/linear_model.html#logistic-regression\n",
            "  extra_warning_msg=_LOGISTIC_SOLVER_CONVERGENCE_MSG,\n"
          ]
        }
      ]
    },
    {
      "cell_type": "code",
      "source": [
        "# get_clf_eval()\n",
        "# 저번에 작성한 것에 ROC AUC를 추가함\n",
        "def get_clf_eval(y_test, pred=None, pred_proba=None):\n",
        "    confusion = confusion_matrix(y_test, pred)\n",
        "    accuracy = accuracy_score(y_test, pred)\n",
        "    precision = precision_score(y_test, pred)\n",
        "    recall = recall_score(y_test, pred)\n",
        "    f1 = f1_score(y_test, pred)\n",
        "    roc_auc = roc_auc_score(y_test, pred)\n",
        "    \n",
        "    print('오차행렬')\n",
        "    print(confusion)\n",
        "    print('정확도: {0:.4f}, 정밀도: {1:.4f}, 재현율: {2:.4f}, F1: {3:.4f}, AUC:{4:.4f}'\n",
        "          .format(accuracy, precision, recall, f1, roc_auc))\n",
        "    \n",
        "# get_eval_by_threshold()\n",
        "def get_eval_by_threshold(y_test, pred_proba_c1, thresholds):\n",
        "    # thresholds list 객체 내의 값을 차례로 iteration하면서 evaluation 수행\n",
        "    for custom_threshold in thresholds:\n",
        "        binarizer = Binarizer(threshold=custom_threshold).fit(pred_proba_c1)\n",
        "        custom_predict = binarizer.transform(pred_proba_c1)\n",
        "        print(f'임곗값: {custom_threshold}')\n",
        "        get_clf_eval(y_test, custom_predict)\n",
        "\n",
        "# precision_recall_curve_plot()\n",
        "def precision_recall_curve_plot(y_test, pred_proba_c1):\n",
        "    # threshold ndarray와 이 threshold에 따른 정밀도, 재현율 ndarray 추출\n",
        "    precisions, recalls, thresholds = precision_recall_curve(y_test, pred_proba_c1)\n",
        "    \n",
        "    # X축을 threshold값으로, Y축은 정밀도, 재현율 값으로 각각 Plot 수행, 정밀도는 점선으로 표시\n",
        "    plt.figure(figsize=(8, 6))\n",
        "    threshold_boundary = thresholds.shape[0]\n",
        "    plt.plot(thresholds, precisions[0:threshold_boundary], linestyle='--', label='precision')\n",
        "    plt.plot(thresholds, recalls[0:threshold_boundary], label='recall')\n",
        "    \n",
        "    # threshold 값 X축의 scale을 0.1 단위로 변경\n",
        "    start, end = plt.xlim()\n",
        "    plt.xticks(np.round(np.arange(start, end, 0.1), 2))\n",
        "    \n",
        "    # X, Y축 label과 legend, grid 설정\n",
        "    plt.xlabel('Threshold value')\n",
        "    plt.ylabel('Precision and Recall value')\n",
        "    plt.legend()\n",
        "    plt.grid()"
      ],
      "metadata": {
        "id": "6dHkUtA5WABx"
      },
      "execution_count": null,
      "outputs": []
    },
    {
      "cell_type": "markdown",
      "source": [
        "예측 정확도가 77.27%, 재현율을 57.41%로 측정됐다. 전체 데이터의 65%가 Negative이므로 정확도보다는 재현율 성능에 좀 더 초점을 맞춰보자.\n",
        "\n",
        "먼저 정밀도 재현율 곡선을 보고 임곗값별 정밀도와 재현율 값의 변화를 확인해보자"
      ],
      "metadata": {
        "id": "ZTJX2VQkRhZe"
      }
    },
    {
      "cell_type": "code",
      "source": [
        "pred_proba_c1 = lr_clf.predict_proba(X_test)[:,1]\n",
        "precision_recall_curve_plot(y_test, pred_proba_c1)"
      ],
      "metadata": {
        "colab": {
          "base_uri": "https://localhost:8080/",
          "height": 388
        },
        "id": "iCXsJTQlUP2G",
        "outputId": "e29d4b99-728b-4252-d2cd-c7230e205646"
      },
      "execution_count": null,
      "outputs": [
        {
          "output_type": "display_data",
          "data": {
            "image/png": "[encoded data removed]",
            "text/plain": [
              "<Figure size 576x432 with 1 Axes>"
            ]
          },
          "metadata": {
            "needs_background": "light"
          }
        }
      ]
    },
    {
      "cell_type": "markdown",
      "source": [
        "재현율 곡선을 보면 임곗값을 0.42 정도로 낮추면 정밀도와 재현율이 어느 정도 균형을 맞출 것 같다.. 하지만 두 개의 지표 모두 0.7이 안되는 수치로 보인다. 여전히 두 지표의 값이 낮다. 임곗값을 인위적으로 조작하기 전에 다시 데이터 값을 점검하자.\n",
        "\n",
        "먼저 원본 데이터 DataFrame의 describe() 메서드를 호출해 피처 값의 분포도를 살펴보자"
      ],
      "metadata": {
        "id": "e-8GM0r7UkpN"
      }
    },
    {
      "cell_type": "code",
      "source": [
        "diabetes_data.describe()"
      ],
      "metadata": {
        "colab": {
          "base_uri": "https://localhost:8080/",
          "height": 300
        },
        "id": "PA5Pt6YVYrLF",
        "outputId": "eed34ed1-626a-4d42-e539-a0c7f3da5c07"
      },
      "execution_count": null,
      "outputs": [
        {
          "output_type": "execute_result",
          "data": {
            "text/html": [
              "\n",
              "  <div id=\"df-0e2608a9-749e-42f1-bb18-f92c75d61dc7\">\n",
              "    <div class=\"colab-df-container\">\n",
              "      <div>\n",
              "<style scoped>\n",
              "    .dataframe tbody tr th:only-of-type {\n",
              "        vertical-align: middle;\n",
              "    }\n",
              "\n",
              "    .dataframe tbody tr th {\n",
              "        vertical-align: top;\n",
              "    }\n",
              "\n",
              "    .dataframe thead th {\n",
              "        text-align: right;\n",
              "    }\n",
              "</style>\n",
              "<table border=\"1\" class=\"dataframe\">\n",
              "  <thead>\n",
              "    <tr style=\"text-align: right;\">\n",
              "      <th></th>\n",
              "      <th>Pregnancies</th>\n",
              "      <th>Glucose</th>\n",
              "      <th>BloodPressure</th>\n",
              "      <th>SkinThickness</th>\n",
              "      <th>Insulin</th>\n",
              "      <th>BMI</th>\n",
              "      <th>DiabetesPedigreeFunction</th>\n",
              "      <th>Age</th>\n",
              "      <th>Outcome</th>\n",
              "    </tr>\n",
              "  </thead>\n",
              "  <tbody>\n",
              "    <tr>\n",
              "      <th>count</th>\n",
              "      <td>768.000000</td>\n",
              "      <td>768.000000</td>\n",
              "      <td>768.000000</td>\n",
              "      <td>768.000000</td>\n",
              "      <td>768.000000</td>\n",
              "      <td>768.000000</td>\n",
              "      <td>768.000000</td>\n",
              "      <td>768.000000</td>\n",
              "      <td>768.000000</td>\n",
              "    </tr>\n",
              "    <tr>\n",
              "      <th>mean</th>\n",
              "      <td>3.845052</td>\n",
              "      <td>120.894531</td>\n",
              "      <td>69.105469</td>\n",
              "      <td>20.536458</td>\n",
              "      <td>79.799479</td>\n",
              "      <td>31.992578</td>\n",
              "      <td>0.471876</td>\n",
              "      <td>33.240885</td>\n",
              "      <td>0.348958</td>\n",
              "    </tr>\n",
              "    <tr>\n",
              "      <th>std</th>\n",
              "      <td>3.369578</td>\n",
              "      <td>31.972618</td>\n",
              "      <td>19.355807</td>\n",
              "      <td>15.952218</td>\n",
              "      <td>115.244002</td>\n",
              "      <td>7.884160</td>\n",
              "      <td>0.331329</td>\n",
              "      <td>11.760232</td>\n",
              "      <td>0.476951</td>\n",
              "    </tr>\n",
              "    <tr>\n",
              "      <th>min</th>\n",
              "      <td>0.000000</td>\n",
              "      <td>0.000000</td>\n",
              "      <td>0.000000</td>\n",
              "      <td>0.000000</td>\n",
              "      <td>0.000000</td>\n",
              "      <td>0.000000</td>\n",
              "      <td>0.078000</td>\n",
              "      <td>21.000000</td>\n",
              "      <td>0.000000</td>\n",
              "    </tr>\n",
              "    <tr>\n",
              "      <th>25%</th>\n",
              "      <td>1.000000</td>\n",
              "      <td>99.000000</td>\n",
              "      <td>62.000000</td>\n",
              "      <td>0.000000</td>\n",
              "      <td>0.000000</td>\n",
              "      <td>27.300000</td>\n",
              "      <td>0.243750</td>\n",
              "      <td>24.000000</td>\n",
              "      <td>0.000000</td>\n",
              "    </tr>\n",
              "    <tr>\n",
              "      <th>50%</th>\n",
              "      <td>3.000000</td>\n",
              "      <td>117.000000</td>\n",
              "      <td>72.000000</td>\n",
              "      <td>23.000000</td>\n",
              "      <td>30.500000</td>\n",
              "      <td>32.000000</td>\n",
              "      <td>0.372500</td>\n",
              "      <td>29.000000</td>\n",
              "      <td>0.000000</td>\n",
              "    </tr>\n",
              "    <tr>\n",
              "      <th>75%</th>\n",
              "      <td>6.000000</td>\n",
              "      <td>140.250000</td>\n",
              "      <td>80.000000</td>\n",
              "      <td>32.000000</td>\n",
              "      <td>127.250000</td>\n",
              "      <td>36.600000</td>\n",
              "      <td>0.626250</td>\n",
              "      <td>41.000000</td>\n",
              "      <td>1.000000</td>\n",
              "    </tr>\n",
              "    <tr>\n",
              "      <th>max</th>\n",
              "      <td>17.000000</td>\n",
              "      <td>199.000000</td>\n",
              "      <td>122.000000</td>\n",
              "      <td>99.000000</td>\n",
              "      <td>846.000000</td>\n",
              "      <td>67.100000</td>\n",
              "      <td>2.420000</td>\n",
              "      <td>81.000000</td>\n",
              "      <td>1.000000</td>\n",
              "    </tr>\n",
              "  </tbody>\n",
              "</table>\n",
              "</div>\n",
              "      <button class=\"colab-df-convert\" onclick=\"convertToInteractive('df-0e2608a9-749e-42f1-bb18-f92c75d61dc7')\"\n",
              "              title=\"Convert this dataframe to an interactive table.\"\n",
              "              style=\"display:none;\">\n",
              "        \n",
              "  <svg xmlns=\"http://www.w3.org/2000/svg\" height=\"24px\"viewBox=\"0 0 24 24\"\n",
              "       width=\"24px\">\n",
              "    <path d=\"M0 0h24v24H0V0z\" fill=\"none\"/>\n",
              "    <path d=\"M18.56 5.44l.94 2.06.94-2.06 2.06-.94-2.06-.94-.94-2.06-.94 2.06-2.06.94zm-11 1L8.5 8.5l.94-2.06 2.06-.94-2.06-.94L8.5 2.5l-.94 2.06-2.06.94zm10 10l.94 2.06.94-2.06 2.06-.94-2.06-.94-.94-2.06-.94 2.06-2.06.94z\"/><path d=\"M17.41 7.96l-1.37-1.37c-.4-.4-.92-.59-1.43-.59-.52 0-1.04.2-1.43.59L10.3 9.45l-7.72 7.72c-.78.78-.78 2.05 0 2.83L4 21.41c.39.39.9.59 1.41.59.51 0 1.02-.2 1.41-.59l7.78-7.78 2.81-2.81c.8-.78.8-2.07 0-2.86zM5.41 20L4 18.59l7.72-7.72 1.47 1.35L5.41 20z\"/>\n",
              "  </svg>\n",
              "      </button>\n",
              "      \n",
              "  <style>\n",
              "    .colab-df-container {\n",
              "      display:flex;\n",
              "      flex-wrap:wrap;\n",
              "      gap: 12px;\n",
              "    }\n",
              "\n",
              "    .colab-df-convert {\n",
              "      background-color: #E8F0FE;\n",
              "      border: none;\n",
              "      border-radius: 50%;\n",
              "      cursor: pointer;\n",
              "      display: none;\n",
              "      fill: #1967D2;\n",
              "      height: 32px;\n",
              "      padding: 0 0 0 0;\n",
              "      width: 32px;\n",
              "    }\n",
              "\n",
              "    .colab-df-convert:hover {\n",
              "      background-color: #E2EBFA;\n",
              "      box-shadow: 0px 1px 2px rgba(60, 64, 67, 0.3), 0px 1px 3px 1px rgba(60, 64, 67, 0.15);\n",
              "      fill: #174EA6;\n",
              "    }\n",
              "\n",
              "    [theme=dark] .colab-df-convert {\n",
              "      background-color: #3B4455;\n",
              "      fill: #D2E3FC;\n",
              "    }\n",
              "\n",
              "    [theme=dark] .colab-df-convert:hover {\n",
              "      background-color: #434B5C;\n",
              "      box-shadow: 0px 1px 3px 1px rgba(0, 0, 0, 0.15);\n",
              "      filter: drop-shadow(0px 1px 2px rgba(0, 0, 0, 0.3));\n",
              "      fill: #FFFFFF;\n",
              "    }\n",
              "  </style>\n",
              "\n",
              "      <script>\n",
              "        const buttonEl =\n",
              "          document.querySelector('#df-0e2608a9-749e-42f1-bb18-f92c75d61dc7 button.colab-df-convert');\n",
              "        buttonEl.style.display =\n",
              "          google.colab.kernel.accessAllowed ? 'block' : 'none';\n",
              "\n",
              "        async function convertToInteractive(key) {\n",
              "          const element = document.querySelector('#df-0e2608a9-749e-42f1-bb18-f92c75d61dc7');\n",
              "          const dataTable =\n",
              "            await google.colab.kernel.invokeFunction('convertToInteractive',\n",
              "                                                     [key], {});\n",
              "          if (!dataTable) return;\n",
              "\n",
              "          const docLinkHtml = 'Like what you see? Visit the ' +\n",
              "            '<a target=\"_blank\" href=https://colab.research.google.com/notebooks/data_table.ipynb>data table notebook</a>'\n",
              "            + ' to learn more about interactive tables.';\n",
              "          element.innerHTML = '';\n",
              "          dataTable['output_type'] = 'display_data';\n",
              "          await google.colab.output.renderOutput(dataTable, element);\n",
              "          const docLink = document.createElement('div');\n",
              "          docLink.innerHTML = docLinkHtml;\n",
              "          element.appendChild(docLink);\n",
              "        }\n",
              "      </script>\n",
              "    </div>\n",
              "  </div>\n",
              "  "
            ],
            "text/plain": [
              "       Pregnancies     Glucose  ...         Age     Outcome\n",
              "count   768.000000  768.000000  ...  768.000000  768.000000\n",
              "mean      3.845052  120.894531  ...   33.240885    0.348958\n",
              "std       3.369578   31.972618  ...   11.760232    0.476951\n",
              "min       0.000000    0.000000  ...   21.000000    0.000000\n",
              "25%       1.000000   99.000000  ...   24.000000    0.000000\n",
              "50%       3.000000  117.000000  ...   29.000000    0.000000\n",
              "75%       6.000000  140.250000  ...   41.000000    1.000000\n",
              "max      17.000000  199.000000  ...   81.000000    1.000000\n",
              "\n",
              "[8 rows x 9 columns]"
            ]
          },
          "metadata": {},
          "execution_count": 22
        }
      ]
    },
    {
      "cell_type": "markdown",
      "source": [
        "min() 값이 0으로 돼 있는 피처가 상당히 많다.\n",
        "\n",
        "예를 드 ㄹ어 Glucose 피처는 포도당 수치인데 min 값이 0인 것은 말이 되지 않는다. Glucose 피처의 히스토그램을 확인해보면 0값이 일정 수준 존재하는 것을 알 수 있다."
      ],
      "metadata": {
        "id": "n1dHJdY8YsqV"
      }
    },
    {
      "cell_type": "code",
      "source": [
        "plt.hist(diabetes_data['Glucose'], bins=10)"
      ],
      "metadata": {
        "colab": {
          "base_uri": "https://localhost:8080/",
          "height": 338
        },
        "id": "ZHJN4GU7Y3A0",
        "outputId": "a62ab56d-bdf2-4272-e3e9-66167254ca78"
      },
      "execution_count": null,
      "outputs": [
        {
          "output_type": "execute_result",
          "data": {
            "text/plain": [
              "(array([  5.,   0.,   4.,  32., 156., 211., 163.,  95.,  56.,  46.]),\n",
              " array([  0. ,  19.9,  39.8,  59.7,  79.6,  99.5, 119.4, 139.3, 159.2,\n",
              "        179.1, 199. ]),\n",
              " <a list of 10 Patch objects>)"
            ]
          },
          "metadata": {},
          "execution_count": 23
        },
        {
          "output_type": "display_data",
          "data": {
            "image/png": "[encoded data removed]",
            "text/plain": [
              "<Figure size 432x288 with 1 Axes>"
            ]
          },
          "metadata": {
            "needs_background": "light"
          }
        }
      ]
    },
    {
      "cell_type": "markdown",
      "source": [
        "min() 값이 0을 돼 있는 피처에 대해 0값의 건수 및 전체 데이터 건수 대비 몇 퍼센트의 비율로 존재하는지 확인해보자.\n",
        "\n",
        "확인할 피처는 'Glucose', 'BloodPressure','SkinThickness','Insulin','BMI'이다."
      ],
      "metadata": {
        "id": "PgnXghy4Y75r"
      }
    },
    {
      "cell_type": "code",
      "source": [
        "# 0값을 검사할 피처 명 리스트\n",
        "zero_features = ['Glucose', 'BloodPressure','SkinThickness','Insulin','BMI']\n",
        "\n",
        "# 전체 데이터 건수\n",
        "total_count = diabetes_data['Glucose'].count()\n",
        "\n",
        "# 피처별로 반복하면서 데이터 값이 0인 데이터 건수를 추출하고, 퍼센트 계산\n",
        "for feature in zero_features:\n",
        "  zero_count = diabetes_data[diabetes_data[feature] == 0][feature].count()\n",
        "  print('{0} 0 건수는 {1}, 퍼센트는 {2:.2f} %'.format(feature, zero_count, 100*zero_count/total_count))"
      ],
      "metadata": {
        "colab": {
          "base_uri": "https://localhost:8080/"
        },
        "id": "xhKwF-n2cwU8",
        "outputId": "6ca782fe-7abd-459f-883a-ae51bc3f7d4c"
      },
      "execution_count": null,
      "outputs": [
        {
          "output_type": "stream",
          "name": "stdout",
          "text": [
            "Glucose 0 건수는 5, 퍼센트는 0.65 %\n",
            "BloodPressure 0 건수는 35, 퍼센트는 4.56 %\n",
            "SkinThickness 0 건수는 227, 퍼센트는 29.56 %\n",
            "Insulin 0 건수는 374, 퍼센트는 48.70 %\n",
            "BMI 0 건수는 11, 퍼센트는 1.43 %\n"
          ]
        }
      ]
    },
    {
      "cell_type": "markdown",
      "source": [
        "SkinThickness와 Insulin의 0값은 각각 전체의 29.56%, 48.7%로 대단히 많다. 전체 데이터 건수가 많지 않기 때문에 이들 데이터를 일괄적으로 삭제할 경우에는 학습을 효과적으로 수행하기 어려울 것 같다.\n",
        "\n",
        "위 피처의 0값들을 평균값으로 대체하자."
      ],
      "metadata": {
        "id": "KW_mzYULelkM"
      }
    },
    {
      "cell_type": "code",
      "source": [
        "# zero_features 리스트 내부에 저장된 개별 피처들에 대해서 0값을 평균 값으로 대체\n",
        "mean_zero_features = diabetes_data[zero_features].mean()\n",
        "diabetes_data[zero_features]=diabetes_data[zero_features].replace(0,mean_zero_features)"
      ],
      "metadata": {
        "id": "9H0M6034e6oF"
      },
      "execution_count": null,
      "outputs": []
    },
    {
      "cell_type": "markdown",
      "source": [
        "0값을 평균값으로 대체한 데이터 세트에 피처 스케일링을 적용해 변환하자.\n",
        "\n",
        "로지스틱 회귀의 경우 일반적으로 숫자 데이터에 스케일링을 적용하는 것이 좋다.\n",
        "이후에 다시 학습/테스트 데이터 세트로 나누고 로지스틱 회귀를 적용해 성능 평가 지표를 확인하자."
      ],
      "metadata": {
        "id": "bAGx0YEGhmT1"
      }
    },
    {
      "cell_type": "code",
      "source": [
        "X = diabetes_data.iloc[: , :-1]\n",
        "y = diabetes_data.iloc[:, -1]\n",
        "\n",
        "# StandardScaler 클래스를 이용해 피처 데이터 세트에 일괄적으로 스케일링 적용\n",
        "scaler= StandardScaler()\n",
        "X_scaled = scaler.fit_transform(X)\n",
        "\n",
        "X_train, X_test, y_train, y_test = train_test_split(X_scaled, y, test_size=0.2, random_state=156, stratify=y)\n",
        "\n",
        "# 로지스틱 회귀로 학습, 예측 및 평가 수행.\n",
        "lr_clf = LogisticRegression()\n",
        "lr_clf.fit(X_train, y_train)\n",
        "pred = lr_clf.predict(X_test)\n",
        "pred_proba = lr_clf.predict_proba(X_test)[:,1]\n",
        "\n",
        "get_clf_eval(y_test, pred, pred_proba)"
      ],
      "metadata": {
        "colab": {
          "base_uri": "https://localhost:8080/"
        },
        "id": "XtzvUuSHjK5q",
        "outputId": "4a0ab739-bbb4-4630-8bb9-0c3f298806e5"
      },
      "execution_count": null,
      "outputs": [
        {
          "output_type": "stream",
          "name": "stdout",
          "text": [
            "오차행렬\n",
            "[[90 10]\n",
            " [21 33]]\n",
            "정확도: 0.7987, 정밀도: 0.7674, 재현율: 0.6111, F1: 0.6804, AUC:0.7556\n"
          ]
        }
      ]
    },
    {
      "cell_type": "markdown",
      "source": [
        "데이터 변환과 스케일링을 통해 성능 수치가 일정 수준 개선됐다.\n",
        "하지만 여전히 재현율 수치는 개선이 필요해보인다.\n",
        "\n",
        "분류 결정 임곗값을 변화시키면서 재현율 값의 성능 수치가 어느 정도나 개선되는지 확인해보자.\n",
        "\n",
        "다음 코드는 임곗값을 0.3에서 0.5까지 0.03 간격으로 변화시킨다.\n",
        "\n"
      ],
      "metadata": {
        "id": "8WWfM7InkB1C"
      }
    },
    {
      "cell_type": "code",
      "source": [
        "from sklearn.preprocessing import Binarizer\n",
        "\n",
        "thresholds = [0.3, 0.33, 0.36, 0.39, 0.42, 0.45, 0.48, 0.5]\n",
        "\n",
        "def get_eval_by_threshold(y_test, pred_proba_c1, thresholds):\n",
        "  # thresholds list 객체 내의 값을 차례로 iteration하면서 Evaluation 수행.\n",
        "  for custom_threshold in thresholds:\n",
        "    binarizer = Binarizer(threshold=custom_threshold).fit(pred_proba_c1)\n",
        "    custom_predict = binarizer.transform(pred_proba_c1)\n",
        "    print('임곗값:', custom_threshold)\n",
        "    get_clf_eval(y_test, custom_predict)\n",
        "\n",
        "\n",
        "pred_proba = lr_clf.predict_proba(X_test)\n",
        "get_eval_by_threshold(y_test, pred_proba[:,1].reshape(-1,1), thresholds)"
      ],
      "metadata": {
        "colab": {
          "base_uri": "https://localhost:8080/"
        },
        "id": "ciu-wOsTkxDK",
        "outputId": "de73efa1-4cc3-45ae-e216-135734834745"
      },
      "execution_count": null,
      "outputs": [
        {
          "output_type": "stream",
          "name": "stdout",
          "text": [
            "임곗값: 0.3\n",
            "오차행렬\n",
            "[[67 33]\n",
            " [11 43]]\n",
            "정확도: 0.7143, 정밀도: 0.5658, 재현율: 0.7963, F1: 0.6615, AUC:0.7331\n",
            "임곗값: 0.33\n",
            "오차행렬\n",
            "[[72 28]\n",
            " [12 42]]\n",
            "정확도: 0.7403, 정밀도: 0.6000, 재현율: 0.7778, F1: 0.6774, AUC:0.7489\n",
            "임곗값: 0.36\n",
            "오차행렬\n",
            "[[76 24]\n",
            " [15 39]]\n",
            "정확도: 0.7468, 정밀도: 0.6190, 재현율: 0.7222, F1: 0.6667, AUC:0.7411\n",
            "임곗값: 0.39\n",
            "오차행렬\n",
            "[[78 22]\n",
            " [16 38]]\n",
            "정확도: 0.7532, 정밀도: 0.6333, 재현율: 0.7037, F1: 0.6667, AUC:0.7419\n",
            "임곗값: 0.42\n",
            "오차행렬\n",
            "[[84 16]\n",
            " [18 36]]\n",
            "정확도: 0.7792, 정밀도: 0.6923, 재현율: 0.6667, F1: 0.6792, AUC:0.7533\n",
            "임곗값: 0.45\n",
            "오차행렬\n",
            "[[85 15]\n",
            " [18 36]]\n",
            "정확도: 0.7857, 정밀도: 0.7059, 재현율: 0.6667, F1: 0.6857, AUC:0.7583\n",
            "임곗값: 0.48\n",
            "오차행렬\n",
            "[[88 12]\n",
            " [19 35]]\n",
            "정확도: 0.7987, 정밀도: 0.7447, 재현율: 0.6481, F1: 0.6931, AUC:0.7641\n",
            "임곗값: 0.5\n",
            "오차행렬\n",
            "[[90 10]\n",
            " [21 33]]\n",
            "정확도: 0.7987, 정밀도: 0.7674, 재현율: 0.6111, F1: 0.6804, AUC:0.7556\n"
          ]
        }
      ]
    },
    {
      "cell_type": "markdown",
      "source": [
        "정확도와 정밀도를 희생하고 재현율을 높이는 데 가장 좋은 임곗값은 0.33으로, 재현율 값이 0.7963이다.\n",
        "하지만 정밀도가 0.5972로 매우 저조해졌으니 극단적인 선택이다.\n",
        "\n",
        "임곗값 0.48이 전체적인 성능평가 지표를 유지하면서 재현율을 약간 향상시키는 좋은 임곗값으로 보인다.\n",
        "\n",
        "임곗값을 0.48로 낮춘 상태에서 다시 예측을 해보자.\n",
        "\n",
        "사이킷런의 predict() 메서드는 임곗값을 마음대로 변환할 수 없으므로 별도의 로직으로 이를 구해야한다.\n",
        "\n",
        "앞에서 살펴본 Binarizer 클래스를 이용해 predict_proba()로 추출한 예측 결과 확률값을 변환해 변경된 임곗값에 따른 예측 클래스 값을 구해보자."
      ],
      "metadata": {
        "id": "YiFOF3tBk-v5"
      }
    },
    {
      "cell_type": "code",
      "source": [
        "# 임곗값을 0.48로 설정한 Binarizer 생성\n",
        "binarizer = Binarizer(threshold=0.48)\n",
        "\n",
        "# 위에서 구한 lr_clf의 predict_proba() 예측 확률 array에서 1에 해당하는 칼럼값을 Binarizer 변환\n",
        "pred_th_048 = binarizer.fit_transform(pred_proba[:,1].reshape(-1,1))\n",
        "\n",
        "get_clf_eval(y_test, pred_th_048, pred_proba[:,1])"
      ],
      "metadata": {
        "colab": {
          "base_uri": "https://localhost:8080/"
        },
        "id": "INKUSrcrl0JJ",
        "outputId": "7df43cd8-2cfa-4d8f-a0d2-e38ce17777cb"
      },
      "execution_count": null,
      "outputs": [
        {
          "output_type": "stream",
          "name": "stdout",
          "text": [
            "오차행렬\n",
            "[[88 12]\n",
            " [19 35]]\n",
            "정확도: 0.7987, 정밀도: 0.7447, 재현율: 0.6481, F1: 0.6931, AUC:0.7641\n"
          ]
        }
      ]
    },
    {
      "cell_type": "markdown",
      "source": [
        ""
      ],
      "metadata": {
        "id": "Um5GkkZQmL-S"
      }
    }
  ]
}